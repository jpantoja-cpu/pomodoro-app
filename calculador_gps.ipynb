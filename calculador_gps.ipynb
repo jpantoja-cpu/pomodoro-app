{
  "nbformat": 4,
  "nbformat_minor": 0,
  "metadata": {
    "colab": {
      "provenance": [],
      "authorship_tag": "ABX9TyPRgyC4Sk/GzAYJ9ux4k49r",
      "include_colab_link": true
    },
    "kernelspec": {
      "name": "python3",
      "display_name": "Python 3"
    },
    "language_info": {
      "name": "python"
    }
  },
  "cells": [
    {
      "cell_type": "markdown",
      "metadata": {
        "id": "view-in-github",
        "colab_type": "text"
      },
      "source": [
        "<a href=\"https://colab.research.google.com/github/jpantoja-cpu/pomodoro-app/blob/main/calculador_gps.ipynb\" target=\"_parent\"><img src=\"https://colab.research.google.com/assets/colab-badge.svg\" alt=\"Open In Colab\"/></a>"
      ]
    },
    {
      "cell_type": "code",
      "execution_count": null,
      "metadata": {
        "colab": {
          "base_uri": "https://localhost:8080/"
        },
        "id": "oWI5aXRrtLCK",
        "outputId": "2b022ebf-59be-4b97-b1cb-d204dd7aa606"
      },
      "outputs": [
        {
          "output_type": "stream",
          "name": "stdout",
          "text": [
            "Latitud: -16.31773217186516, Longitud: -67.73628873403834\n"
          ]
        },
        {
          "output_type": "stream",
          "name": "stderr",
          "text": [
            "<ipython-input-7-a36ff5a553b1>:14: FutureWarning: This function is deprecated. See: https://pyproj4.github.io/pyproj/stable/gotchas.html#upgrading-to-pyproj-2-from-pyproj-1\n",
            "  longitude, latitude = transform(proj_utm, proj_wgs84, easting, northing)\n"
          ]
        }
      ],
      "source": [
        "from pyproj import Proj, transform\n",
        "\n",
        "# Definir el sistema UTM (por ejemplo, zona 19S, EPSG:32719)\n",
        "proj_utm = Proj(proj=\"utm\", zone=19, south=True, ellps=\"WGS84\")\n",
        "\n",
        "# Definir el sistema de coordenadas geográficas WGS 84\n",
        "proj_wgs84 = Proj(proj=\"latlong\", datum=\"WGS84\")\n",
        "\n",
        "# Coordenadas UTM de ejemplo\n",
        "easting = 635000 # Coordenada X (Este)\n",
        "northing = 8195500  # Coordenada Y (Norte)\n",
        "\n",
        "# Convertir UTM a Latitud/Longitud\n",
        "longitude, latitude = transform(proj_utm, proj_wgs84, easting, northing)\n",
        "\n",
        "print(f\"Latitud: {latitude}, Longitud: {longitude}\")\n"
      ]
    }
  ]
}